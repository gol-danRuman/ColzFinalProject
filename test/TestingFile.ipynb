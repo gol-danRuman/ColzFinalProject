{
 "cells": [
  {
   "cell_type": "code",
   "execution_count": 1,
   "metadata": {},
   "outputs": [],
   "source": [
    "import pandas as pd"
   ]
  },
  {
   "cell_type": "code",
   "execution_count": 6,
   "metadata": {},
   "outputs": [],
   "source": [
    "file = pd.read_csv('1000data.csv', header=0)"
   ]
  },
  {
   "cell_type": "code",
   "execution_count": 21,
   "metadata": {},
   "outputs": [
    {
     "name": "stdout",
     "output_type": "stream",
     "text": [
      "          ID Case Number                    Date                Block  IUCR  \\\n",
      "235  2317373    HH607300  08/26/2002 08:30:00 PM      042XX W 26TH ST  0890   \n",
      "778  6474328    HP550688  09/03/2008 05:45:00 AM  059XX S ASHLAND AVE  0326   \n",
      "\n",
      "    Primary Type                     Description Location Description  Arrest  \\\n",
      "235        THEFT                   FROM BUILDING            APARTMENT   False   \n",
      "778      ROBBERY  AGGRAVATED VEHICULAR HIJACKING          GAS STATION   False   \n",
      "\n",
      "     Domestic              ...                Ward  Community Area  FBI Code  \\\n",
      "235     False              ...                22.0            30.0        06   \n",
      "778     False              ...                15.0            67.0        03   \n",
      "\n",
      "     X Coordinate Y Coordinate  Year              Updated On   Latitude  \\\n",
      "235     1148638.0    1886385.0  2002  02/28/2018 03:56:25 PM  41.844175   \n",
      "778     1166686.0    1865425.0  2008  02/28/2018 03:56:25 PM  41.786292   \n",
      "\n",
      "     Longitude                       Location  \n",
      "235 -87.730020  (41.844175252, -87.730020244)  \n",
      "778 -87.664386  (41.786291714, -87.664386014)  \n",
      "\n",
      "[2 rows x 22 columns]\n"
     ]
    }
   ],
   "source": [
    "print(file.sample(2))"
   ]
  },
  {
   "cell_type": "code",
   "execution_count": 23,
   "metadata": {},
   "outputs": [
    {
     "name": "stdout",
     "output_type": "stream",
     "text": [
      "201    17.0\n",
      "811    49.0\n",
      "Name: Community Area, dtype: float64\n"
     ]
    }
   ],
   "source": [
    "print(file.sample(2)['Community Area'])"
   ]
  },
  {
   "cell_type": "code",
   "execution_count": 24,
   "metadata": {},
   "outputs": [
    {
     "name": "stdout",
     "output_type": "stream",
     "text": [
      "0            OFFENSE INVOLVING CHILDREN\n",
      "1                               BATTERY\n",
      "2                          PROSTITUTION\n",
      "3                                 THEFT\n",
      "4                       CRIMINAL DAMAGE\n",
      "5                         OTHER OFFENSE\n",
      "8                               ASSAULT\n",
      "9                     WEAPONS VIOLATION\n",
      "12                            NARCOTICS\n",
      "15                             BURGLARY\n",
      "25                    CRIMINAL TRESPASS\n",
      "30                  MOTOR VEHICLE THEFT\n",
      "39                              ROBBERY\n",
      "57                             GAMBLING\n",
      "72                   DECEPTIVE PRACTICE\n",
      "116                LIQUOR LAW VIOLATION\n",
      "172              PUBLIC PEACE VIOLATION\n",
      "236                            HOMICIDE\n",
      "325                         SEX OFFENSE\n",
      "453                               ARSON\n",
      "464                            STALKING\n",
      "493                 CRIM SEXUAL ASSAULT\n",
      "813    INTERFERENCE WITH PUBLIC OFFICER\n",
      "Name: Primary Type, dtype: object\n"
     ]
    }
   ],
   "source": [
    "print(file['Primary Type'].drop_duplicates())"
   ]
  },
  {
   "cell_type": "code",
   "execution_count": null,
   "metadata": {},
   "outputs": [],
   "source": [
    ""
   ]
  },
  {
   "cell_type": "code",
   "execution_count": null,
   "metadata": {},
   "outputs": [],
   "source": [
    ""
   ]
  }
 ],
 "metadata": {
  "kernelspec": {
   "display_name": "Python 3",
   "language": "python",
   "name": "python3"
  },
  "language_info": {
   "codemirror_mode": {
    "name": "ipython",
    "version": 3.0
   },
   "file_extension": ".py",
   "mimetype": "text/x-python",
   "name": "python",
   "nbconvert_exporter": "python",
   "pygments_lexer": "ipython3",
   "version": "3.6.5"
  }
 },
 "nbformat": 4,
 "nbformat_minor": 0
}