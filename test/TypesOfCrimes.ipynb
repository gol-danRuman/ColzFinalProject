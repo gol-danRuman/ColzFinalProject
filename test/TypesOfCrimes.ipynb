{
 "cells": [
  {
   "cell_type": "code",
   "execution_count": 2,
   "metadata": {},
   "outputs": [],
   "source": [
    "import pandas as pd"
   ]
  },
  {
   "cell_type": "code",
   "execution_count": 3,
   "metadata": {},
   "outputs": [],
   "source": [
    "file = pd.read_csv('1000data.csv', header=0)"
   ]
  },
  {
   "cell_type": "code",
   "execution_count": 4,
   "metadata": {},
   "outputs": [],
   "source": [
    "crime_types = file.sample(2)"
   ]
  },
  {
   "cell_type": "code",
   "execution_count": 5,
   "metadata": {},
   "outputs": [
    {
     "name": "stdout",
     "output_type": "stream",
     "text": [
      "          ID Case Number                    Date               Block  IUCR  \\\n",
      "578  9006860    HW154447  02/12/2013 10:05:00 PM   049XX W CORTEZ ST  0486   \n",
      "166  2448290    HH771714  11/10/2002 10:45:00 PM  056XX N NEWARK AVE  1320   \n",
      "\n",
      "        Primary Type              Description    Location Description  Arrest  \\\n",
      "578          BATTERY  DOMESTIC BATTERY SIMPLE               RESIDENCE    True   \n",
      "166  CRIMINAL DAMAGE               TO VEHICLE  VEHICLE NON-COMMERCIAL   False   \n",
      "\n",
      "     Domestic              ...                Ward  Community Area  FBI Code  \\\n",
      "578      True              ...                37.0            25.0       08B   \n",
      "166     False              ...                41.0            10.0        14   \n",
      "\n",
      "     X Coordinate Y Coordinate  Year              Updated On   Latitude  \\\n",
      "578     1143173.0    1906530.0  2013  02/10/2018 03:50:01 PM  41.899559   \n",
      "166     1130564.0    1937275.0  2002  02/28/2018 03:56:25 PM  41.984153   \n",
      "\n",
      "     Longitude                       Location  \n",
      "578 -87.749573    (41.899559291, -87.7495733)  \n",
      "166 -87.795178  (41.984153205, -87.795177985)  \n",
      "\n",
      "[2 rows x 22 columns]\n"
     ]
    }
   ],
   "source": [
    "print(crime_types)"
   ]
  },
  {
   "cell_type": "code",
   "execution_count": 5,
   "metadata": {},
   "outputs": [],
   "source": [
    "crime_types.to_csv('crimes.csv', index=False)"
   ]
  },
  {
   "cell_type": "code",
   "execution_count": null,
   "metadata": {},
   "outputs": [],
   "source": [
    ""
   ]
  }
 ],
 "metadata": {
  "kernelspec": {
   "display_name": "Python 3",
   "language": "python",
   "name": "python3"
  },
  "language_info": {
   "codemirror_mode": {
    "name": "ipython",
    "version": 3.0
   },
   "file_extension": ".py",
   "mimetype": "text/x-python",
   "name": "python",
   "nbconvert_exporter": "python",
   "pygments_lexer": "ipython3",
   "version": "3.6.5"
  }
 },
 "nbformat": 4,
 "nbformat_minor": 0
}