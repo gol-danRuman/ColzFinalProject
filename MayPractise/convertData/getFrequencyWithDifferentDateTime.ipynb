{
 "cells": [
  {
   "cell_type": "code",
   "execution_count": 1,
   "metadata": {},
   "outputs": [],
   "source": [
    "#load data\n",
    "import pickle\n",
    "file = open(\"data1000.obj\", 'rb')\n",
    "df = pickle.load(file)\n",
    "file.close()"
   ]
  },
  {
   "cell_type": "code",
   "execution_count": 3,
   "metadata": {},
   "outputs": [],
   "source": [
    "#convert dataframe to list\n",
    "date_list = df['Date'].tolist()"
   ]
  },
  {
   "cell_type": "code",
   "execution_count": 6,
   "metadata": {},
   "outputs": [
    {
     "data": {
      "text/plain": [
       "'02/07/2017 06:20:00 PM'"
      ]
     },
     "execution_count": 6,
     "metadata": {},
     "output_type": "execute_result"
    }
   ],
   "source": [
    "date_list[0]\n",
    "\n"
   ]
  },
  {
   "cell_type": "code",
   "execution_count": 23,
   "metadata": {},
   "outputs": [],
   "source": [
    "#convert list of string object ot datetime object\n",
    "from datetime import datetime\n",
    "convertdate_List = [] #empty list\n",
    "month_list = []\n",
    "days_list = []\n",
    "year_list = []\n",
    "hour_list = []\n",
    "\n",
    "for date_str1 in date_list: \n",
    "    date = datetime.strptime(date_str1, '%m/%d/%Y %H:%M:%S %p')\n",
    "    convertdate_List.append(date)\n",
    "    month_list.append(date.month)\n",
    "    days_list.append(date.day)\n",
    "    year_list.append(date.year)\n",
    "    hour_list.append(date.hour)"
   ]
  },
  {
   "cell_type": "code",
   "execution_count": 12,
   "metadata": {},
   "outputs": [],
   "source": [
    "#convert list to dataFrame\n",
    "import pandas as pd\n",
    "datedf = pd.DataFrame(convertdate_List)"
   ]
  },
  {
   "cell_type": "code",
   "execution_count": 27,
   "metadata": {},
   "outputs": [
    {
     "data": {
      "text/plain": [
       "7     845\n",
       "5     826\n",
       "6     818\n",
       "8     815\n",
       "9     793\n",
       "11    760\n",
       "10    755\n",
       "12    716\n",
       "4     707\n",
       "3     669\n",
       "2     658\n",
       "1     656\n",
       "Name: 0, dtype: int64"
      ]
     },
     "execution_count": 27,
     "metadata": {},
     "output_type": "execute_result"
    }
   ],
   "source": [
    "#get frequency of month\n",
    "import pandas as pd\n",
    "monthdf = pd.DataFrame(month_list)\n",
    "monthdf[0].value_counts()"
   ]
  },
  {
   "cell_type": "code",
   "execution_count": 28,
   "metadata": {},
   "outputs": [
    {
     "data": {
      "text/plain": [
       "2004    763\n",
       "2003    676\n",
       "2007    667\n",
       "2005    649\n",
       "2008    639\n",
       "2006    629\n",
       "2009    579\n",
       "2011    540\n",
       "2012    530\n",
       "2002    524\n",
       "2010    516\n",
       "2013    464\n",
       "2017    421\n",
       "2014    404\n",
       "2016    400\n",
       "2015    365\n",
       "2018    247\n",
       "2001      5\n",
       "Name: 0, dtype: int64"
      ]
     },
     "execution_count": 28,
     "metadata": {},
     "output_type": "execute_result"
    }
   ],
   "source": [
    "#get frequency of year\n",
    "import pandas as pd\n",
    "yeardf = pd.DataFrame(year_list)\n",
    "yeardf[0].value_counts()\n"
   ]
  },
  {
   "cell_type": "code",
   "execution_count": 29,
   "metadata": {},
   "outputs": [
    {
     "data": {
      "text/plain": [
       "12    1055\n",
       "10     886\n",
       "8      837\n",
       "9      822\n",
       "11     799\n",
       "7      726\n",
       "1      715\n",
       "3      692\n",
       "2      684\n",
       "4      617\n",
       "6      611\n",
       "5      574\n",
       "Name: 0, dtype: int64"
      ]
     },
     "execution_count": 29,
     "metadata": {},
     "output_type": "execute_result"
    }
   ],
   "source": [
    "#get frequency of hour\n",
    "import pandas as pd\n",
    "hourdf = pd.DataFrame(hour_list)\n",
    "hourdf[0].value_counts()"
   ]
  },
  {
   "cell_type": "code",
   "execution_count": null,
   "metadata": {},
   "outputs": [],
   "source": []
  }
 ],
 "metadata": {
  "kernelspec": {
   "display_name": "Python 3",
   "language": "python",
   "name": "python3"
  },
  "language_info": {
   "codemirror_mode": {
    "name": "ipython",
    "version": 3
   },
   "file_extension": ".py",
   "mimetype": "text/x-python",
   "name": "python",
   "nbconvert_exporter": "python",
   "pygments_lexer": "ipython3",
   "version": "3.6.7"
  }
 },
 "nbformat": 4,
 "nbformat_minor": 2
}
